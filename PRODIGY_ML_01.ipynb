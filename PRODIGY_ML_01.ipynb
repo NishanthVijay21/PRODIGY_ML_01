{
 "cells": [
  {
   "cell_type": "code",
   "execution_count": 1,
   "id": "96ba203c",
   "metadata": {},
   "outputs": [
    {
     "name": "stdout",
     "output_type": "stream",
     "text": [
      "Mean Squared Error: 80204814579.60\n",
      "R-squared: 0.31\n",
      "Enter the number of beds: 3\n",
      "Enter the number of baths: 3\n",
      "Enter the lot area (in sqft): 6000\n"
     ]
    },
    {
     "name": "stderr",
     "output_type": "stream",
     "text": [
      "C:\\Users\\nandu\\anaconda3\\Lib\\site-packages\\sklearn\\base.py:464: UserWarning: X does not have valid feature names, but StandardScaler was fitted with feature names\n",
      "  warnings.warn(\n"
     ]
    },
    {
     "name": "stdout",
     "output_type": "stream",
     "text": [
      "Predicted price for 3 beds, 3 baths, 6000 sq ft lot area: $1,021,432.92\n",
      "Do you want to enter another set of values? (yes/no): no\n"
     ]
    }
   ],
   "source": [
    "import pandas as pd\n",
    "import numpy as np\n",
    "import matplotlib.pyplot as plt\n",
    "import seaborn as sns\n",
    "from sklearn.model_selection import train_test_split\n",
    "from sklearn.linear_model import LinearRegression\n",
    "from sklearn.metrics import mean_squared_error, r2_score\n",
    "from sklearn.preprocessing import StandardScaler\n",
    "\n",
    "# Load and prepare data\n",
    "data = pd.read_csv('train (1).csv')\n",
    "data.dropna(inplace=True)\n",
    "data[\"lot_size\"] = data.apply(lambda row: row[\"lot_size\"] * 43560 if row[\"lot_size_units\"] == 'acre' else row[\"lot_size\"], axis=1)\n",
    "data[\"lot_size_units\"] = \"sqft\"\n",
    "\n",
    "# Calculate the IQR for the 'lot_size' column\n",
    "Q1 = data['lot_size'].quantile(0.25)\n",
    "Q3 = data['lot_size'].quantile(0.75)\n",
    "IQR = Q3 - Q1\n",
    "\n",
    "# Determine the bounds for outliers\n",
    "lower_bound = Q1 - 1.5 * IQR\n",
    "upper_bound = Q3 + 1.5 * IQR\n",
    "\n",
    "# Exclude the outliers from the DataFrame\n",
    "df_no_outliers = data[(data['lot_size'] >= lower_bound) & (data['lot_size'] <= upper_bound)]\n",
    "\n",
    "# Calculate the IQR for the 'price' column\n",
    "Q1 = df_no_outliers[\"price\"].quantile(0.25)\n",
    "Q3 = df_no_outliers[\"price\"].quantile(0.75)\n",
    "IQR = Q3 - Q1\n",
    "\n",
    "# Determine the bounds for outliers in the 'price' column\n",
    "lower_bound = Q1 - 1.5 * IQR\n",
    "upper_bound = Q3 + 1.5 * IQR\n",
    "\n",
    "# Exclude the outliers from the DataFrame\n",
    "df_no_outliers = df_no_outliers[(df_no_outliers[\"price\"] >= lower_bound) & (df_no_outliers[\"price\"] <= upper_bound)]\n",
    "\n",
    "# Drop unnecessary columns\n",
    "df_no_outliers.drop(columns=[\"size_units\", \"lot_size_units\", 'zip_code', 'size'], inplace=True)\n",
    "\n",
    "# Standardize the data\n",
    "scaler_X = StandardScaler()\n",
    "scaler_y = StandardScaler()\n",
    "\n",
    "X = df_no_outliers.iloc[:, :-1]\n",
    "y = df_no_outliers['price']\n",
    "\n",
    "X_standardized = scaler_X.fit_transform(X)\n",
    "y_standardized = scaler_y.fit_transform(y.values.reshape(-1, 1)).ravel()\n",
    "\n",
    "# Split the data into training and testing sets\n",
    "X_train, X_test, y_train, y_test = train_test_split(X_standardized, y_standardized, test_size=0.2, random_state=42)\n",
    "\n",
    "# Create and train the linear regression model\n",
    "model = LinearRegression()\n",
    "model.fit(X_train, y_train)\n",
    "\n",
    "# Make predictions on the test set\n",
    "y_pred_standardized = model.predict(X_test)\n",
    "y_pred = scaler_y.inverse_transform(y_pred_standardized.reshape(-1, 1)).ravel()\n",
    "y_test_original = scaler_y.inverse_transform(y_test.reshape(-1, 1)).ravel()\n",
    "\n",
    "# Evaluate the model\n",
    "mse = mean_squared_error(y_test_original, y_pred)\n",
    "r2 = r2_score(y_test_original, y_pred)\n",
    "\n",
    "print(f\"Mean Squared Error: {mse:.2f}\")\n",
    "print(f\"R-squared: {r2:.2f}\")\n",
    "\n",
    "# Take user input for predictions\n",
    "while True:\n",
    "    try:\n",
    "        # Take user input\n",
    "        beds = int(input(\"Enter the number of beds: \"))\n",
    "        baths = int(input(\"Enter the number of baths: \"))\n",
    "        lot_area = int(input(\"Enter the lot area (in sqft): \"))\n",
    "\n",
    "        # Create the input array for prediction and standardize it\n",
    "        user_input = np.array([[beds, baths, lot_area]])\n",
    "        user_input_standardized = scaler_X.transform(user_input)\n",
    "\n",
    "        # Predict and de-standardize the price\n",
    "        predicted_price_standardized = model.predict(user_input_standardized)\n",
    "        predicted_price = scaler_y.inverse_transform(predicted_price_standardized.reshape(-1, 1)).ravel()\n",
    "\n",
    "        print(f'Predicted price for {beds} beds, {baths} baths, {lot_area} sq ft lot area: ${predicted_price[0]:,.2f}')\n",
    "    except ValueError:\n",
    "        print(\"Invalid input. Please enter numerical values.\")\n",
    "    except KeyboardInterrupt:\n",
    "        print(\"\\nExiting...\")\n",
    "        break\n",
    "    except Exception as e:\n",
    "        print(f\"An unexpected error occurred: {e}\")\n",
    "    finally:\n",
    "        more_input = input(\"Do you want to enter another set of values? (yes/no): \").strip().lower()\n",
    "        if more_input == 'no':\n",
    "            break\n"
   ]
  },
  {
   "cell_type": "code",
   "execution_count": null,
   "id": "12479cc2",
   "metadata": {},
   "outputs": [],
   "source": []
  }
 ],
 "metadata": {
  "kernelspec": {
   "display_name": "Python 3 (ipykernel)",
   "language": "python",
   "name": "python3"
  },
  "language_info": {
   "codemirror_mode": {
    "name": "ipython",
    "version": 3
   },
   "file_extension": ".py",
   "mimetype": "text/x-python",
   "name": "python",
   "nbconvert_exporter": "python",
   "pygments_lexer": "ipython3",
   "version": "3.11.5"
  }
 },
 "nbformat": 4,
 "nbformat_minor": 5
}
